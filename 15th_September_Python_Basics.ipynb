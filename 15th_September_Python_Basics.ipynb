{
 "cells": [
  {
   "cell_type": "code",
   "execution_count": 15,
   "id": "56fa0584-0da2-4823-b6ef-427f0827de86",
   "metadata": {},
   "outputs": [
    {
     "name": "stdout",
     "output_type": "stream",
     "text": [
      "x :  5\n",
      "y :  10\n"
     ]
    }
   ],
   "source": [
    "#Python Basic Variable\n",
    "\n",
    "'''Q1. Declare two variables, `x` and `y`, and assign them integer values. Swap the\n",
    "values of these variables without using any temporary variable.'''\n",
    "x = 10 \n",
    "y = 5\n",
    "\n",
    "x = x + y \n",
    "#Assigning the value of x to y \n",
    "\n",
    "y = x - y\n",
    "#Assigning the value of y to x \n",
    "\n",
    "x = x - y\n",
    "#Swapping values and printing\n",
    "\n",
    "print(\"x : \",x)\n",
    "print(\"y : \",y)"
   ]
  },
  {
   "cell_type": "code",
   "execution_count": 2,
   "id": "ae995ad3-d873-423f-a38a-2d6656576570",
   "metadata": {},
   "outputs": [
    {
     "name": "stdin",
     "output_type": "stream",
     "text": [
      "Please enter the length of rectangle 23.4\n",
      "Please enter the width of rectangle 34.24\n"
     ]
    },
    {
     "name": "stdout",
     "output_type": "stream",
     "text": [
      "The area of rectangle is : 801.22\n"
     ]
    }
   ],
   "source": [
    "#Python Basic Variable\n",
    "'''Q2. Create a program that calculates the area of a rectangle. Take the length and\n",
    "width as inputs from the user and store them in variables. Calculate and\n",
    "display the area.'''\n",
    "\n",
    "length_Rectangle = float(input(\"Please enter the length of rectangle\"))\n",
    "\n",
    "width_Rectangle = float(input(\"Please enter the width of rectangle\"))\n",
    "\n",
    "#Are of rectangle is (a =l*b)\n",
    "area_Rectangle = length_Rectangle * width_Rectangle \n",
    "\n",
    "#Rounding off the decimal value to upto 2 digit\n",
    "area_Rectangle = \"{:.2f}\".format(area_Rectangle)\n",
    "\n",
    "#Printing the value \n",
    "print(\"The area of rectangle is :\",area_Rectangle)"
   ]
  },
  {
   "cell_type": "code",
   "execution_count": 3,
   "id": "3a70f9fb-64dc-4862-b932-abbe34af06cf",
   "metadata": {},
   "outputs": [
    {
     "name": "stdin",
     "output_type": "stream",
     "text": [
      "Please enter the temperature in celcius 45\n"
     ]
    },
    {
     "name": "stdout",
     "output_type": "stream",
     "text": [
      "The temperature in Fahrenheit is :  113.0\n"
     ]
    }
   ],
   "source": [
    "#Python Basic Variable\n",
    "'''Write a Python program that converts temperatures from Celsius to\n",
    "Fahrenheit. Take the temperature in Celsius as input, store it in a variable,\n",
    "convert it to Fahrenheit, and display the result.'''\n",
    "\n",
    "celcius_Temperature = int(input(\"Please enter the temperature in celcius\"))\n",
    "\n",
    "#converting f to c ((f = c*9/5)+32)\n",
    "Fahrenheit_Temperature = (celcius_Temperature * 9 / 5) + 32\n",
    "\n",
    "#Printing the temperature in fahrenheit\n",
    "print(\"The temperature in Fahrenheit is : \", Fahrenheit_Temperature)       "
   ]
  },
  {
   "cell_type": "code",
   "execution_count": 5,
   "id": "3f0fd0af-019f-4c11-91da-7c878c8465ff",
   "metadata": {},
   "outputs": [
    {
     "name": "stdin",
     "output_type": "stream",
     "text": [
      "Please enter a text or string Danish\n"
     ]
    },
    {
     "name": "stdout",
     "output_type": "stream",
     "text": [
      "The legth of the text or string is  6\n"
     ]
    }
   ],
   "source": [
    "#String Based Questions\n",
    "'''Q1. Write a Python program that takes a string as input and prints the length of\n",
    "the string.'''\n",
    "\n",
    "#Taking input from users\n",
    "user_Input = input(\"Please enter a text or string\")\n",
    "\n",
    "#To get the length of the string input given by users \n",
    "length_String = len(user_Input)\n",
    "\n",
    "#Printing the length of the string\n",
    "print(\"The legth of the text or string is \",length_String)"
   ]
  },
  {
   "cell_type": "code",
   "execution_count": 8,
   "id": "7eeb6b7f-9c09-415a-a674-3e55294db7a0",
   "metadata": {},
   "outputs": [
    {
     "name": "stdin",
     "output_type": "stream",
     "text": [
      "Please enter the sentence Danish\n"
     ]
    },
    {
     "name": "stdout",
     "output_type": "stream",
     "text": [
      "The number of vowels in given sentence is : 2\n"
     ]
    }
   ],
   "source": [
    "#String Based Questions\n",
    "'''q2. Create a program that takes a sentence from the user and counts the number\n",
    "of vowels (a, e, i, o, u) in the string.'''\n",
    "\n",
    "#Taking input from users\n",
    "user_Input = input(\"Please enter the sentence\")\n",
    "\n",
    "# Convert the string to lowercase Converting the user input to lower case\n",
    "user_Input_Lower = user_Input.lower()\n",
    "\n",
    "#Counting the value of vowels\n",
    "a =  user_Input_Lower.count('a')\n",
    "e =  user_Input_Lower.count('e')\n",
    "i =  user_Input_Lower.count('i')\n",
    "o =  user_Input_Lower.count('o')\n",
    "u =  user_Input_Lower.count('u')\n",
    "\n",
    "# Counting the total no. of vowels\n",
    "total_Vowels = a+e+i+o+u\n",
    "\n",
    "#Printing the vowel counts\n",
    "print(\"The number of vowels in given sentence is :\", total_Vowels)"
   ]
  },
  {
   "cell_type": "code",
   "execution_count": 9,
   "id": "09c8f7c8-b35b-46d5-b176-3a9b34e96661",
   "metadata": {},
   "outputs": [
    {
     "name": "stdout",
     "output_type": "stream",
     "text": [
      "The reverse string is : sllikswp\n"
     ]
    }
   ],
   "source": [
    "#String Based Questions\n",
    "'''Q3. Given a string, reverse the order of characters using string slicing and print\n",
    "the reversed string.'''\n",
    "\n",
    "input = \"pwskills\"\n",
    "\n",
    "#Reversing the input through slicing\n",
    "print(\"The reverse string is :\", input[::-1])"
   ]
  },
  {
   "cell_type": "code",
   "execution_count": 4,
   "id": "3bdc2411-26ca-42b6-b9b4-5c11a82867b9",
   "metadata": {},
   "outputs": [
    {
     "name": "stdin",
     "output_type": "stream",
     "text": [
      "Please enter a string:  rotor\n"
     ]
    },
    {
     "name": "stdout",
     "output_type": "stream",
     "text": [
      "'rotor' is a palindrome.\n"
     ]
    }
   ],
   "source": [
    "#String Based Questions\n",
    "'''Q4. Write a program that takes a string as input and checks if it is a palindrome\n",
    "(reads the same forwards and backwards).'''\n",
    "\n",
    "#Getting the input from users\n",
    "user_Input = input(\"Please enter a string: \")\n",
    "\n",
    "\n",
    "# Convert the string to lowercase \n",
    "input_lower = user_Input.lower()\n",
    "\n",
    "# Check if it's a palindrome and display the result\n",
    "if input_lower == input_lower[::-1]:\n",
    "    print(f\"'{user_Input}' is a palindrome.\")\n",
    "else:\n",
    "    print(f\"'{user_Input}' is not a palindrome.\")"
   ]
  },
  {
   "cell_type": "code",
   "execution_count": 2,
   "id": "fc3368df-ce47-4450-8e31-e6969fbb881d",
   "metadata": {},
   "outputs": [
    {
     "name": "stdin",
     "output_type": "stream",
     "text": [
      "Please enter the string D    a    n    i   s    h  \n"
     ]
    },
    {
     "name": "stdout",
     "output_type": "stream",
     "text": [
      "The modified string without space is : Danish\n"
     ]
    }
   ],
   "source": [
    "#String Based Questions\n",
    "'''Create a program that takes a string as input and removes all the spaces from\n",
    "it. Print the modified string without spaces.'''\n",
    "\n",
    "#Getting the input from users\n",
    "user_Input = input(\"Please enter the string\")\n",
    "\n",
    "# Replacing the blank space from user input\n",
    "clean_Input = user_Input.replace(\" \",\"\")\n",
    "\n",
    "#Printing the value without space\n",
    "print(\"The modified string without space is :\",clean_Input)"
   ]
  }
 ],
 "metadata": {
  "kernelspec": {
   "display_name": "Python 3 (ipykernel)",
   "language": "python",
   "name": "python3"
  },
  "language_info": {
   "codemirror_mode": {
    "name": "ipython",
    "version": 3
   },
   "file_extension": ".py",
   "mimetype": "text/x-python",
   "name": "python",
   "nbconvert_exporter": "python",
   "pygments_lexer": "ipython3",
   "version": "3.10.8"
  }
 },
 "nbformat": 4,
 "nbformat_minor": 5
}
